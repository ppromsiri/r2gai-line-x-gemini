{
 "cells": [
  {
   "cell_type": "code",
   "execution_count": 2,
   "metadata": {},
   "outputs": [],
   "source": [
    "import pandas as pd\n",
    "import json\n",
    "\n",
    "def ndjson_to_df(file_path):\n",
    "    # อ่านไฟล์ ndjson และแปลงเป็น list ของ dictionaries\n",
    "    data = []\n",
    "    with open(file_path, 'r', encoding='utf-8') as f:\n",
    "        for line in f:\n",
    "            data.append(json.loads(line))\n",
    "    \n",
    "    # แปลงเป็น DataFrame\n",
    "    df = pd.DataFrame(data)\n",
    "    return df\n",
    "\n"
   ]
  },
  {
   "cell_type": "code",
   "execution_count": 3,
   "metadata": {},
   "outputs": [],
   "source": [
    "\n",
    "input_file = \"funds.ndjson\"\n",
    "df = ndjson_to_df(input_file)\n"
   ]
  },
  {
   "cell_type": "code",
   "execution_count": 4,
   "metadata": {},
   "outputs": [
    {
     "data": {
      "text/plain": [
       "Index(['securityID', 'wmTradingFundID', 'fitFundID', 'fundCode',\n",
       "       'fundNameThai', 'fundNameEn', 'fundhouseID', 'fundhouseCode',\n",
       "       'fundTypeCode', 'isDividendFund', 'riskSpectrum', 'NAV', 'NAVDate',\n",
       "       'NAVChg', 'return1D', 'return1M', 'return3M', 'return6M', 'returnYTD',\n",
       "       'return1Y', 'return3Y', 'return5Y', 'return10Y', 'returnSinceInception',\n",
       "       'SD1Y', 'SD3Y', 'SD5Y', 'sharpRatio1Y', 'sharpRatio3Y', 'sharpRatio5Y',\n",
       "       'informationRatio1Y', 'informationRatio3Y', 'informationRatio5Y',\n",
       "       'shouldShowIR', 'beta1Y', 'beta3Y', 'beta5Y', 'shouldShowBeta',\n",
       "       'riskAsOfDate', 'totalExpenseRatio', 'frontEndFeeActual',\n",
       "       'backEndFeeActual', 'initialPurchase', 'isWatchList', 'setID',\n",
       "       'hashtags'],\n",
       "      dtype='object')"
      ]
     },
     "execution_count": 4,
     "metadata": {},
     "output_type": "execute_result"
    }
   ],
   "source": [
    "df.columns"
   ]
  },
  {
   "cell_type": "code",
   "execution_count": 5,
   "metadata": {},
   "outputs": [
    {
     "data": {
      "text/plain": [
       "array(['MMF', 'SSFFIX', 'EQF', 'FIXSTB', 'ETF', 'FIFFIX', 'LTF', 'FIFMIX',\n",
       "       'FIFEQ', 'SSFEQ', 'RMFEQ', 'MIXFLEX', 'FIXMTB', 'FIXLTB', 'PROP',\n",
       "       'RMFFIX', 'SSFX', 'FIXROB', 'FOF', 'FIFOTH', 'GOLD', 'RMFMIX',\n",
       "       'OIL', 'TESG', 'MIXBAL', 'SSFMIX', 'RMFOTH', 'FIXBFT', 'SSFOTH',\n",
       "       'OTH'], dtype=object)"
      ]
     },
     "execution_count": 5,
     "metadata": {},
     "output_type": "execute_result"
    }
   ],
   "source": [
    "df.fundTypeCode.unique()"
   ]
  },
  {
   "cell_type": "code",
   "execution_count": null,
   "metadata": {},
   "outputs": [],
   "source": []
  }
 ],
 "metadata": {
  "kernelspec": {
   "display_name": "Python 3",
   "language": "python",
   "name": "python3"
  },
  "language_info": {
   "codemirror_mode": {
    "name": "ipython",
    "version": 3
   },
   "file_extension": ".py",
   "mimetype": "text/x-python",
   "name": "python",
   "nbconvert_exporter": "python",
   "pygments_lexer": "ipython3",
   "version": "3.12.3"
  }
 },
 "nbformat": 4,
 "nbformat_minor": 2
}
