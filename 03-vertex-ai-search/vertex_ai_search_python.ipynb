{
 "cells": [
  {
   "cell_type": "markdown",
   "id": "2fc1a6d2",
   "metadata": {},
   "source": [
    "# Call Vertex AI Search - AI Application from Python"
   ]
  },
  {
   "cell_type": "code",
   "execution_count": null,
   "id": "2dbd4564",
   "metadata": {
    "vscode": {
     "languageId": "plaintext"
    }
   },
   "outputs": [],
   "source": []
  }
 ],
 "metadata": {
  "language_info": {
   "name": "python"
  }
 },
 "nbformat": 4,
 "nbformat_minor": 5
}
